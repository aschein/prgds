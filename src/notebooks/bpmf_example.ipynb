{
 "cells": [
  {
   "cell_type": "code",
   "execution_count": 1,
   "id": "advisory-chuck",
   "metadata": {},
   "outputs": [
    {
     "name": "stderr",
     "output_type": "stream",
     "text": [
      "/Users/aaronschein/opt/anaconda3/lib/python3.7/site-packages/statsmodels/tools/_testing.py:19: FutureWarning: pandas.util.testing is deprecated. Use the functions in the public API at pandas.testing instead.\n",
      "  import pandas.util.testing as tm\n",
      "Using numpy backend.\n"
     ]
    }
   ],
   "source": [
    "import numpy as np\n",
    "import numpy.random as rn\n",
    "import matplotlib.pyplot as plt\n",
    "import seaborn as sns\n",
    "\n",
    "import scipy.stats as st\n",
    "\n",
    "import sys\n",
    "from path import Path\n",
    "sys.path.append('..')\n",
    "from apf.models.bpmf import BPMF"
   ]
  },
  {
   "cell_type": "code",
   "execution_count": 2,
   "id": "blessed-sculpture",
   "metadata": {},
   "outputs": [],
   "source": [
    "seed = 222\n",
    "rn.seed(seed)\n",
    "\n",
    "n_samps = 100\n",
    "n_feats = 200\n",
    "n_comps = 10\n",
    "\n",
    "eps = 0.1\n",
    "b = 10\n",
    "\n",
    "b = rn.gamma(eps, 1./eps)\n",
    "Theta_IK = rn.gamma(eps, 1./(eps * b), size=(n_samps, n_comps))\n",
    "Phi_KJ = rn.dirichlet(np.ones(n_feats), size=n_comps)\n",
    "Lambda_K = rn.gamma(eps, 1./eps, size=n_comps)\n",
    "Mu_IJ = Theta_IK.dot(Phi_KJ)\n",
    "\n",
    "Y_IJ = rn.poisson(Mu_IJ)                        # count data\n",
    "B_IJ = (Y_IJ > 0).astype(int)                   # binarized data\n",
    "mask_IJ = rn.binomial(1, 0.1, size=Y_IJ.shape)  # randomly make 10% missing\n",
    "\n",
    "count_data = np.ma.MaskedArray(Y_IJ, mask_IJ.astype(bool))  # create masked count data\n",
    "binary_data = np.ma.MaskedArray(B_IJ, mask_IJ.astype(bool)) # create masked binary data"
   ]
  },
  {
   "cell_type": "code",
   "execution_count": 3,
   "id": "possible-handle",
   "metadata": {
    "scrolled": true
   },
   "outputs": [
    {
     "name": "stdout",
     "output_type": "stream",
     "text": [
      "Pointwise predictive density on training data: 0.27378371462821355\n",
      "Pointwise predictive density on test data: 0.22698889775620879\n"
     ]
    }
   ],
   "source": [
    "K = 15\n",
    "model = BPMF(n_samps=count_data.shape[0],\n",
    "             n_feats=count_data.shape[1],\n",
    "             n_comps=K,\n",
    "             binary=False,\n",
    "             n_threads=3)\n",
    "\n",
    "burnin = 1000  # 1000 iterations of burnin\n",
    "model.fit(count_data, \n",
    "          n_itns=burnin, \n",
    "          initialize=True,\n",
    "          verbose=0)\n",
    "\n",
    "n_epochs = 100  # number of Gibbs sampling epochs\n",
    "n_itns = 50     # number of Gibbs iterations per epoch\n",
    "\n",
    "prob_IJ = np.zeros(count_data.shape)\n",
    "for epoch in range(n_epochs):\n",
    "    model.fit(count_data, \n",
    "              n_itns=n_itns, \n",
    "              initialize=False,\n",
    "              verbose=0)\n",
    "    \n",
    "    pred_IJ = model.reconstruct()\n",
    "    prob_IJ += st.poisson.pmf(count_data.data, pred_IJ)\n",
    "prob_IJ /= float(n_epochs)\n",
    "\n",
    "mask = count_data.mask\n",
    "test_data = count_data.data[mask]\n",
    "train_data = count_data.data[~mask]\n",
    "\n",
    "test_ppd = np.exp(np.mean(np.log(prob_IJ[mask])))\n",
    "train_ppd = np.exp(np.mean(np.log(prob_IJ[~mask])))\n",
    "\n",
    "print(f'Pointwise predictive density on training data: {train_ppd}')\n",
    "print(f'Pointwise predictive density on test data: {test_ppd}')"
   ]
  },
  {
   "cell_type": "code",
   "execution_count": 4,
   "id": "bibliographic-mexico",
   "metadata": {},
   "outputs": [
    {
     "name": "stdout",
     "output_type": "stream",
     "text": [
      "Pointwise predictive density on training data: 0.7734989381395044\n",
      "Pointwise predictive density on test data: 0.6320747500751928\n"
     ]
    }
   ],
   "source": [
    "K = 15\n",
    "model = BPMF(n_samps=binary_data.shape[0],\n",
    "             n_feats=binary_data.shape[1],\n",
    "             n_comps=K,\n",
    "             binary=True,\n",
    "             n_threads=3)\n",
    "\n",
    "burnin = 1000  # 1000 iterations of burnin\n",
    "model.fit(binary_data, \n",
    "          n_itns=burnin, \n",
    "          initialize=True,\n",
    "          verbose=0)\n",
    "\n",
    "n_epochs = 100  # number of Gibbs sampling epochs\n",
    "n_itns = 50     # number of Gibbs iterations per epoch\n",
    "\n",
    "prob_IJ = np.zeros(binary_data.shape)\n",
    "for epoch in range(n_epochs):\n",
    "    model.fit(binary_data, \n",
    "              n_itns=n_itns, \n",
    "              initialize=False,\n",
    "              verbose=0)\n",
    "    \n",
    "    pred_IJ = -np.expm1(-model.reconstruct())\n",
    "    prob_IJ += st.bernoulli.pmf(binary_data.data, pred_IJ)\n",
    "prob_IJ /= float(n_epochs)\n",
    "\n",
    "mask = binary_data.mask\n",
    "test_data = binary_data.data[mask]\n",
    "train_data = binary_data.data[~mask]\n",
    "\n",
    "test_ppd = np.exp(np.mean(np.log(prob_IJ[mask])))\n",
    "train_ppd = np.exp(np.mean(np.log(prob_IJ[~mask])))\n",
    "\n",
    "print(f'Pointwise predictive density on training data: {train_ppd}')\n",
    "print(f'Pointwise predictive density on test data: {test_ppd}')"
   ]
  }
 ],
 "metadata": {
  "kernelspec": {
   "display_name": "Python 3",
   "language": "python",
   "name": "python3"
  },
  "language_info": {
   "codemirror_mode": {
    "name": "ipython",
    "version": 3
   },
   "file_extension": ".py",
   "mimetype": "text/x-python",
   "name": "python",
   "nbconvert_exporter": "python",
   "pygments_lexer": "ipython3",
   "version": "3.7.4"
  }
 },
 "nbformat": 4,
 "nbformat_minor": 5
}
